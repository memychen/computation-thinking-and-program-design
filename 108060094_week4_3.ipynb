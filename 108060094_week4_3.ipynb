{
  "nbformat": 4,
  "nbformat_minor": 0,
  "metadata": {
    "colab": {
      "name": "108060094 week4-3",
      "provenance": []
    },
    "kernelspec": {
      "name": "python3",
      "display_name": "Python 3"
    }
  },
  "cells": [
    {
      "cell_type": "code",
      "metadata": {
        "id": "J5cqnKXfMgtl",
        "colab_type": "code",
        "outputId": "08b3faac-ef0d-4bdf-a997-c5df18d485f1",
        "colab": {
          "base_uri": "https://localhost:8080/",
          "height": 34
        }
      },
      "source": [
        "print(\"Hello Worid\")"
      ],
      "execution_count": 0,
      "outputs": [
        {
          "output_type": "stream",
          "text": [
            "Hello Worid\n"
          ],
          "name": "stdout"
        }
      ]
    },
    {
      "cell_type": "markdown",
      "metadata": {
        "id": "towRlBG0RJJB",
        "colab_type": "text"
      },
      "source": [
        "嗨～～～\n"
      ]
    },
    {
      "cell_type": "markdown",
      "metadata": {
        "id": "Ng-sre09Rcpf",
        "colab_type": "text"
      },
      "source": [
        "哈哈哈\n"
      ]
    }
  ]
}