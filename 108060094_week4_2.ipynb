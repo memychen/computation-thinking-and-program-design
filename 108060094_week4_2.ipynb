{
  "nbformat": 4,
  "nbformat_minor": 0,
  "metadata": {
    "colab": {
      "name": "108060094 week4-2",
      "provenance": []
    },
    "kernelspec": {
      "name": "python3",
      "display_name": "Python 3"
    }
  },
  "cells": [
    {
      "cell_type": "code",
      "metadata": {
        "id": "J5cqnKXfMgtl",
        "colab_type": "code",
        "colab": {
          "base_uri": "https://localhost:8080/",
          "height": 34
        },
        "outputId": "08b3faac-ef0d-4bdf-a997-c5df18d485f1"
      },
      "source": [
        "print(\"Hello Worid\")"
      ],
      "execution_count": 1,
      "outputs": [
        {
          "output_type": "stream",
          "text": [
            "Hello Worid\n"
          ],
          "name": "stdout"
        }
      ]
    }
  ]
}